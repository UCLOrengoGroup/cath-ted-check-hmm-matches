{
 "cells": [
  {
   "cell_type": "code",
   "execution_count": 1,
   "metadata": {},
   "outputs": [],
   "source": [
    "import pandas as pd\n",
    "import numpy as np\n",
    "import matplotlib.pyplot as plt\n",
    "from domain_vis.visualize import visualize_domains_and_plot"
   ]
  },
  {
   "cell_type": "code",
   "execution_count": 2,
   "metadata": {},
   "outputs": [
    {
     "data": {
      "text/html": [
       "<div>\n",
       "<style scoped>\n",
       "    .dataframe tbody tr th:only-of-type {\n",
       "        vertical-align: middle;\n",
       "    }\n",
       "\n",
       "    .dataframe tbody tr th {\n",
       "        vertical-align: top;\n",
       "    }\n",
       "\n",
       "    .dataframe thead th {\n",
       "        text-align: right;\n",
       "    }\n",
       "</style>\n",
       "<table border=\"1\" class=\"dataframe\">\n",
       "  <thead>\n",
       "    <tr style=\"text-align: right;\">\n",
       "      <th></th>\n",
       "      <th>chain_id</th>\n",
       "      <th>foldseek_domain_id</th>\n",
       "      <th>foldseek_cath_code</th>\n",
       "      <th>hmm_evalue</th>\n",
       "      <th>overlap_percentage</th>\n",
       "      <th>hmm_boundaries</th>\n",
       "      <th>foldseek_boundaries</th>\n",
       "      <th>hmm_boundaries_length</th>\n",
       "      <th>foldseek_boundaries_length</th>\n",
       "      <th>hmm_id</th>\n",
       "      <th>plddt</th>\n",
       "      <th>packing_density</th>\n",
       "    </tr>\n",
       "  </thead>\n",
       "  <tbody>\n",
       "    <tr>\n",
       "      <th>0</th>\n",
       "      <td>AF-Q8N3P4-F1-model_v4</td>\n",
       "      <td>AF-Q8N3P4-F1-model_v4_TED01</td>\n",
       "      <td>2.130.10.10</td>\n",
       "      <td>1.400000e-09</td>\n",
       "      <td>48.03</td>\n",
       "      <td>93-328</td>\n",
       "      <td>134-498</td>\n",
       "      <td>236</td>\n",
       "      <td>365</td>\n",
       "      <td>4lg9A00</td>\n",
       "      <td>90.5224</td>\n",
       "      <td>13.084</td>\n",
       "    </tr>\n",
       "    <tr>\n",
       "      <th>1</th>\n",
       "      <td>AF-Q9BXT8-F1-model_v4</td>\n",
       "      <td>AF-Q9BXT8-F1-model_v4_TED03</td>\n",
       "      <td>2.40.50.90</td>\n",
       "      <td>4.900000e-07</td>\n",
       "      <td>43.42</td>\n",
       "      <td>554-653</td>\n",
       "      <td>418-494_503-652</td>\n",
       "      <td>100</td>\n",
       "      <td>227</td>\n",
       "      <td>4b9wA01</td>\n",
       "      <td>78.3645</td>\n",
       "      <td>11.719</td>\n",
       "    </tr>\n",
       "    <tr>\n",
       "      <th>2</th>\n",
       "      <td>AF-A0A6Q8PHD2-F1-model_v4</td>\n",
       "      <td>AF-A0A6Q8PHD2-F1-model_v4_TED01</td>\n",
       "      <td>1.25.10.10</td>\n",
       "      <td>9.600000e-06</td>\n",
       "      <td>46.95</td>\n",
       "      <td>68-329</td>\n",
       "      <td>82-204</td>\n",
       "      <td>262</td>\n",
       "      <td>123</td>\n",
       "      <td>1b3uA00</td>\n",
       "      <td>96.9642</td>\n",
       "      <td>11.983</td>\n",
       "    </tr>\n",
       "    <tr>\n",
       "      <th>3</th>\n",
       "      <td>AF-A0A2R8YFD9-F1-model_v4</td>\n",
       "      <td>AF-A0A2R8YFD9-F1-model_v4_TED01</td>\n",
       "      <td>3.40.930.10</td>\n",
       "      <td>2.700000e-07</td>\n",
       "      <td>45.74</td>\n",
       "      <td>192-316</td>\n",
       "      <td>66-73_94-168_177-293</td>\n",
       "      <td>125</td>\n",
       "      <td>200</td>\n",
       "      <td>4ky9P00</td>\n",
       "      <td>76.9513</td>\n",
       "      <td>12.064</td>\n",
       "    </tr>\n",
       "    <tr>\n",
       "      <th>4</th>\n",
       "      <td>AF-Q13023-F1-model_v4</td>\n",
       "      <td>AF-Q13023-F1-model_v4_TED03</td>\n",
       "      <td>1.20.58.60</td>\n",
       "      <td>1.800000e-09</td>\n",
       "      <td>44.73</td>\n",
       "      <td>959-1195</td>\n",
       "      <td>963-1068</td>\n",
       "      <td>237</td>\n",
       "      <td>106</td>\n",
       "      <td>3eduA00</td>\n",
       "      <td>79.1276</td>\n",
       "      <td>11.178</td>\n",
       "    </tr>\n",
       "  </tbody>\n",
       "</table>\n",
       "</div>"
      ],
      "text/plain": [
       "                    chain_id               foldseek_domain_id  \\\n",
       "0      AF-Q8N3P4-F1-model_v4      AF-Q8N3P4-F1-model_v4_TED01   \n",
       "1      AF-Q9BXT8-F1-model_v4      AF-Q9BXT8-F1-model_v4_TED03   \n",
       "2  AF-A0A6Q8PHD2-F1-model_v4  AF-A0A6Q8PHD2-F1-model_v4_TED01   \n",
       "3  AF-A0A2R8YFD9-F1-model_v4  AF-A0A2R8YFD9-F1-model_v4_TED01   \n",
       "4      AF-Q13023-F1-model_v4      AF-Q13023-F1-model_v4_TED03   \n",
       "\n",
       "  foldseek_cath_code    hmm_evalue  overlap_percentage hmm_boundaries  \\\n",
       "0        2.130.10.10  1.400000e-09               48.03         93-328   \n",
       "1         2.40.50.90  4.900000e-07               43.42        554-653   \n",
       "2         1.25.10.10  9.600000e-06               46.95         68-329   \n",
       "3        3.40.930.10  2.700000e-07               45.74        192-316   \n",
       "4         1.20.58.60  1.800000e-09               44.73       959-1195   \n",
       "\n",
       "    foldseek_boundaries  hmm_boundaries_length  foldseek_boundaries_length  \\\n",
       "0               134-498                    236                         365   \n",
       "1       418-494_503-652                    100                         227   \n",
       "2                82-204                    262                         123   \n",
       "3  66-73_94-168_177-293                    125                         200   \n",
       "4              963-1068                    237                         106   \n",
       "\n",
       "    hmm_id    plddt  packing_density  \n",
       "0  4lg9A00  90.5224           13.084  \n",
       "1  4b9wA01  78.3645           11.719  \n",
       "2  1b3uA00  96.9642           11.983  \n",
       "3  4ky9P00  76.9513           12.064  \n",
       "4  3eduA00  79.1276           11.178  "
      ]
     },
     "execution_count": 2,
     "metadata": {},
     "output_type": "execute_result"
    }
   ],
   "source": [
    "df = pd.read_csv(\"results/domain_comparison_results_human.processed.annotated.tsv\", sep=\"\\t\")\n",
    "df.head()"
   ]
  },
  {
   "cell_type": "code",
   "execution_count": 3,
   "metadata": {},
   "outputs": [
    {
     "data": {
      "application/vnd.jupyter.widget-view+json": {
       "model_id": "ecfbb033374148a180e6aec6a56798ef",
       "version_major": 2,
       "version_minor": 0
      },
      "text/plain": [
       "VBox(children=(VBox(children=(Dropdown(description='Sort by:', options=('Index', 'HMM E-value', 'Overlap Perce…"
      ]
     },
     "metadata": {},
     "output_type": "display_data"
    }
   ],
   "source": [
    "visualize_domains_and_plot(df)"
   ]
  },
  {
   "cell_type": "code",
   "execution_count": null,
   "metadata": {},
   "outputs": [],
   "source": []
  }
 ],
 "metadata": {
  "kernelspec": {
   "display_name": "base",
   "language": "python",
   "name": "python3"
  },
  "language_info": {
   "codemirror_mode": {
    "name": "ipython",
    "version": 3
   },
   "file_extension": ".py",
   "mimetype": "text/x-python",
   "name": "python",
   "nbconvert_exporter": "python",
   "pygments_lexer": "ipython3",
   "version": "3.12.11"
  }
 },
 "nbformat": 4,
 "nbformat_minor": 2
}
